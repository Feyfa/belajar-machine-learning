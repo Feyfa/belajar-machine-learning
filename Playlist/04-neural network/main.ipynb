{
 "cells": [
  {
   "cell_type": "code",
   "execution_count": 9,
   "id": "37397297",
   "metadata": {},
   "outputs": [],
   "source": [
    "import numpy as np"
   ]
  },
  {
   "cell_type": "markdown",
   "id": "6d5bd603",
   "metadata": {},
   "source": [
    "## Generate Data"
   ]
  },
  {
   "cell_type": "markdown",
   "id": "60733b0e",
   "metadata": {},
   "source": [
    "## Data Otong"
   ]
  },
  {
   "cell_type": "code",
   "execution_count": 12,
   "id": "2e580095",
   "metadata": {},
   "outputs": [],
   "source": [
    "x1 = np.array([180 for i in range(1,100)])"
   ]
  },
  {
   "cell_type": "code",
   "execution_count": 13,
   "id": "0572b9e4",
   "metadata": {},
   "outputs": [
    {
     "name": "stdout",
     "output_type": "stream",
     "text": [
      "[180 180 180 180 180 180 180 180 180 180 180 180 180 180 180 180 180 180\n",
      " 180 180 180 180 180 180 180 180 180 180 180 180 180 180 180 180 180 180\n",
      " 180 180 180 180 180 180 180 180 180 180 180 180 180 180 180 180 180 180\n",
      " 180 180 180 180 180 180 180 180 180 180 180 180 180 180 180 180 180 180\n",
      " 180 180 180 180 180 180 180 180 180 180 180 180 180 180 180 180 180 180\n",
      " 180 180 180 180 180 180 180 180 180]\n"
     ]
    }
   ],
   "source": [
    "print(x1)"
   ]
  }
 ],
 "metadata": {
  "kernelspec": {
   "display_name": "Env",
   "language": "python",
   "name": "python3"
  },
  "language_info": {
   "codemirror_mode": {
    "name": "ipython",
    "version": 3
   },
   "file_extension": ".py",
   "mimetype": "text/x-python",
   "name": "python",
   "nbconvert_exporter": "python",
   "pygments_lexer": "ipython3",
   "version": "3.13.6"
  }
 },
 "nbformat": 4,
 "nbformat_minor": 5
}
