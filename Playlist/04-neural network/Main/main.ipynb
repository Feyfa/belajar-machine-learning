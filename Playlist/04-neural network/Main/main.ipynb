{
 "cells": [
  {
   "cell_type": "code",
   "execution_count": 173,
   "id": "37397297",
   "metadata": {},
   "outputs": [],
   "source": [
    "import sys,os\n",
    "sys.path.append(os.path.abspath(os.path.join(os.getcwd(), \"../../../\")))\n",
    "\n",
    "import numpy as np\n",
    "import pandas as pd\n",
    "from sklearn.utils import shuffle\n",
    "import matplotlib.pyplot as plt\n",
    "from Helper.Fungsi.sigmoid import sigmoid"
   ]
  },
  {
   "cell_type": "markdown",
   "id": "6d5bd603",
   "metadata": {},
   "source": [
    "## Generate Data"
   ]
  },
  {
   "cell_type": "markdown",
   "id": "60733b0e",
   "metadata": {},
   "source": [
    "## Data Otong"
   ]
  },
  {
   "cell_type": "code",
   "execution_count": 174,
   "id": "2e580095",
   "metadata": {},
   "outputs": [
    {
     "name": "stdout",
     "output_type": "stream",
     "text": [
      "           x1        x2  y1  y2  label\n",
      "0   18.173886  6.285798   1   0  otong\n",
      "1   17.780303  4.715023   1   0  otong\n",
      "2   18.183129  4.138997   1   0  otong\n",
      "3   18.376458  5.566014   1   0  otong\n",
      "4   18.810013  7.108117   1   0  otong\n",
      "..        ...       ...  ..  ..    ...\n",
      "94  17.870442  4.278837   1   0  otong\n",
      "95  19.640924  6.470521   1   0  otong\n",
      "96  18.521272  3.196210   1   0  otong\n",
      "97  17.289551  4.181418   1   0  otong\n",
      "98  18.213339  6.457176   1   0  otong\n",
      "\n",
      "[99 rows x 5 columns]\n"
     ]
    }
   ],
   "source": [
    "# tinggi badan\n",
    "x1 = np.array([18 + (1 * np.random.randn()) for i in range(1,100)])\n",
    "# berat badan\n",
    "x2 = np.array([5 + (1 * np.random.randn()) for i in range(1,100)])\n",
    "# status otong\n",
    "y1 = np.array([1 for i in range(1, 100)])\n",
    "# status ucup\n",
    "y2 = np.array([0 for i in range(1, 100)])\n",
    "# label\n",
    "label = np.array(['otong' for i in range(1,100)])\n",
    "\n",
    "# data compilasi\n",
    "data_otong = {\n",
    "    'x1': x1,\n",
    "    'x2': x2,\n",
    "    'y1': y1,\n",
    "    'y2': y2,\n",
    "    'label': label\n",
    "}\n",
    "\n",
    "# data frame\n",
    "data_frame_1 = pd.DataFrame(data=data_otong)\n",
    "\n",
    "print(data_frame_1)"
   ]
  },
  {
   "cell_type": "markdown",
   "id": "0d4ae75e",
   "metadata": {},
   "source": [
    "## Data Ucup"
   ]
  },
  {
   "cell_type": "code",
   "execution_count": 175,
   "id": "a5de6b33",
   "metadata": {},
   "outputs": [
    {
     "name": "stdout",
     "output_type": "stream",
     "text": [
      "           x1        x2  y1  y2 label\n",
      "0   10.572533  6.751486   0   1  ucup\n",
      "1    9.185140  9.159821   0   1  ucup\n",
      "2   10.569190  7.068566   0   1  ucup\n",
      "3    9.316808  7.824152   0   1  ucup\n",
      "4    9.814680  8.724627   0   1  ucup\n",
      "..        ...       ...  ..  ..   ...\n",
      "94  10.841107  7.299858   0   1  ucup\n",
      "95  10.748413  6.874292   0   1  ucup\n",
      "96  12.274821  8.473170   0   1  ucup\n",
      "97  11.440919  9.557628   0   1  ucup\n",
      "98  11.143004  7.438900   0   1  ucup\n",
      "\n",
      "[99 rows x 5 columns]\n"
     ]
    }
   ],
   "source": [
    "# tinggi badan\n",
    "x1 = np.array([10 + (1 * np.random.randn()) for i in range(1,100)])\n",
    "# berat badan\n",
    "x2 = np.array([8 + (1 * np.random.randn()) for i in range(1,100)])\n",
    "# status otong\n",
    "y1 = np.array([0 for i in range(1, 100)])\n",
    "# status ucup\n",
    "y2 = np.array([1 for i in range(1, 100)])\n",
    "# label\n",
    "label = np.array(['ucup' for i in range(1,100)])\n",
    "\n",
    "# data compilasi\n",
    "data_ucup = {\n",
    "    'x1': x1,\n",
    "    'x2': x2,\n",
    "    'y1': y1,\n",
    "    'y2': y2,\n",
    "    'label': label\n",
    "}\n",
    "\n",
    "# data frame\n",
    "data_frame_2 = pd.DataFrame(data=data_ucup)\n",
    "\n",
    "print(data_frame_2)"
   ]
  },
  {
   "cell_type": "markdown",
   "id": "9cccc3d3",
   "metadata": {},
   "source": [
    "## Gabungkan Data"
   ]
  },
  {
   "cell_type": "code",
   "execution_count": 176,
   "id": "4c8a5e2e",
   "metadata": {},
   "outputs": [
    {
     "name": "stdout",
     "output_type": "stream",
     "text": [
      "            x1        x2  y1  y2  label\n",
      "0     9.799519  8.900368   0   1   ucup\n",
      "1    18.268005  5.598548   1   0  otong\n",
      "2    18.364777  5.156657   1   0  otong\n",
      "3    18.183129  4.138997   1   0  otong\n",
      "4    18.151306  4.547279   1   0  otong\n",
      "..         ...       ...  ..  ..    ...\n",
      "193  18.756858  4.161274   1   0  otong\n",
      "194  17.491393  4.180024   1   0  otong\n",
      "195  17.894502  3.919293   1   0  otong\n",
      "196  18.550751  4.849248   1   0  otong\n",
      "197  16.531481  5.957431   1   0  otong\n",
      "\n",
      "[198 rows x 5 columns]\n"
     ]
    }
   ],
   "source": [
    "data_frame = pd.concat([data_frame_1, data_frame_2])\n",
    "data_frame = shuffle(data_frame)\n",
    "data_frame.reset_index(inplace=True,drop=True)\n",
    "print(data_frame)"
   ]
  },
  {
   "cell_type": "code",
   "execution_count": 177,
   "id": "91abab99",
   "metadata": {},
   "outputs": [
    {
     "data": {
      "image/png": "[encoded data removed]",
      "text/plain": [
       "<Figure size 640x480 with 1 Axes>"
      ]
     },
     "metadata": {},
     "output_type": "display_data"
    }
   ],
   "source": [
    "plt.scatter(data_frame_1.x1, data_frame_1.x2)\n",
    "plt.scatter(data_frame_2.x1, data_frame_2.x2)\n",
    "plt.show()"
   ]
  },
  {
   "cell_type": "markdown",
   "id": "d0885eeb",
   "metadata": {},
   "source": [
    "# Neural Networknya"
   ]
  },
  {
   "cell_type": "markdown",
   "id": "40d9c581",
   "metadata": {},
   "source": [
    "## 1. Matrix Weight"
   ]
  },
  {
   "cell_type": "code",
   "execution_count": 178,
   "id": "087de2a9",
   "metadata": {},
   "outputs": [
    {
     "name": "stdout",
     "output_type": "stream",
     "text": [
      "[[-0.00271339  0.00510141]\n",
      " [ 0.00891177 -0.00938492]]\n"
     ]
    }
   ],
   "source": [
    "w11 = np.random.uniform(-0.01, 0.01)\n",
    "w12 = np.random.uniform(-0.01, 0.01)\n",
    "w21 = np.random.uniform(-0.01, 0.01)\n",
    "w22 = np.random.uniform(-0.01, 0.01)\n",
    "\n",
    "W = np.array([\n",
    "    [w11, w12], \n",
    "    [w21, w22]\n",
    "])\n",
    "print(W)"
   ]
  },
  {
   "cell_type": "markdown",
   "id": "63741152",
   "metadata": {},
   "source": [
    "## 2. Iterasi Neural Networknya"
   ]
  },
  {
   "cell_type": "code",
   "execution_count": 179,
   "id": "2973726a",
   "metadata": {},
   "outputs": [
    {
     "name": "stdout",
     "output_type": "stream",
     "text": [
      "index = 0, tebakan = otong, jawaban = ucup\n",
      "index = 1, tebakan = ucup, jawaban = otong\n",
      "index = 2, tebakan = ucup, jawaban = otong\n",
      "index = 3, tebakan = otong, jawaban = otong\n",
      "index = 4, tebakan = otong, jawaban = otong\n",
      "index = 5, tebakan = otong, jawaban = otong\n",
      "index = 6, tebakan = otong, jawaban = ucup\n",
      "index = 7, tebakan = otong, jawaban = otong\n",
      "index = 8, tebakan = otong, jawaban = ucup\n",
      "index = 9, tebakan = ucup, jawaban = otong\n",
      "index = 10, tebakan = otong, jawaban = otong\n",
      "index = 11, tebakan = otong, jawaban = ucup\n",
      "index = 12, tebakan = otong, jawaban = otong\n",
      "index = 13, tebakan = otong, jawaban = ucup\n",
      "index = 14, tebakan = ucup, jawaban = otong\n",
      "index = 15, tebakan = otong, jawaban = ucup\n",
      "index = 16, tebakan = ucup, jawaban = ucup\n",
      "index = 17, tebakan = ucup, jawaban = ucup\n",
      "index = 18, tebakan = ucup, jawaban = ucup\n",
      "index = 19, tebakan = ucup, jawaban = ucup\n",
      "index = 20, tebakan = ucup, jawaban = ucup\n",
      "index = 21, tebakan = ucup, jawaban = ucup\n",
      "index = 22, tebakan = ucup, jawaban = otong\n",
      "index = 23, tebakan = otong, jawaban = otong\n",
      "index = 24, tebakan = otong, jawaban = otong\n",
      "index = 25, tebakan = ucup, jawaban = ucup\n",
      "index = 26, tebakan = ucup, jawaban = ucup\n",
      "index = 27, tebakan = otong, jawaban = otong\n",
      "index = 28, tebakan = ucup, jawaban = ucup\n",
      "index = 29, tebakan = ucup, jawaban = ucup\n",
      "index = 30, tebakan = ucup, jawaban = ucup\n",
      "index = 31, tebakan = otong, jawaban = otong\n",
      "index = 32, tebakan = otong, jawaban = otong\n",
      "index = 33, tebakan = ucup, jawaban = ucup\n",
      "index = 34, tebakan = ucup, jawaban = ucup\n",
      "index = 35, tebakan = ucup, jawaban = ucup\n",
      "index = 36, tebakan = ucup, jawaban = ucup\n",
      "index = 37, tebakan = otong, jawaban = otong\n",
      "index = 38, tebakan = ucup, jawaban = ucup\n",
      "index = 39, tebakan = otong, jawaban = otong\n",
      "index = 40, tebakan = otong, jawaban = otong\n",
      "index = 41, tebakan = otong, jawaban = otong\n",
      "index = 42, tebakan = ucup, jawaban = ucup\n",
      "index = 43, tebakan = ucup, jawaban = ucup\n",
      "index = 44, tebakan = ucup, jawaban = ucup\n",
      "index = 45, tebakan = ucup, jawaban = ucup\n",
      "index = 46, tebakan = otong, jawaban = otong\n",
      "index = 47, tebakan = otong, jawaban = otong\n",
      "index = 48, tebakan = otong, jawaban = otong\n",
      "index = 49, tebakan = otong, jawaban = otong\n",
      "index = 50, tebakan = otong, jawaban = otong\n",
      "index = 51, tebakan = otong, jawaban = otong\n",
      "index = 52, tebakan = ucup, jawaban = ucup\n",
      "index = 53, tebakan = ucup, jawaban = ucup\n",
      "index = 54, tebakan = otong, jawaban = otong\n",
      "index = 55, tebakan = ucup, jawaban = ucup\n",
      "index = 56, tebakan = ucup, jawaban = ucup\n",
      "index = 57, tebakan = otong, jawaban = otong\n",
      "index = 58, tebakan = otong, jawaban = otong\n",
      "index = 59, tebakan = otong, jawaban = otong\n",
      "index = 60, tebakan = otong, jawaban = otong\n",
      "index = 61, tebakan = ucup, jawaban = ucup\n",
      "index = 62, tebakan = otong, jawaban = otong\n",
      "index = 63, tebakan = otong, jawaban = otong\n",
      "index = 64, tebakan = ucup, jawaban = ucup\n",
      "index = 65, tebakan = ucup, jawaban = ucup\n",
      "index = 66, tebakan = ucup, jawaban = ucup\n",
      "index = 67, tebakan = ucup, jawaban = ucup\n",
      "index = 68, tebakan = otong, jawaban = otong\n",
      "index = 69, tebakan = ucup, jawaban = ucup\n",
      "index = 70, tebakan = ucup, jawaban = ucup\n",
      "index = 71, tebakan = ucup, jawaban = ucup\n",
      "index = 72, tebakan = otong, jawaban = otong\n",
      "index = 73, tebakan = otong, jawaban = otong\n",
      "index = 74, tebakan = otong, jawaban = otong\n",
      "index = 75, tebakan = ucup, jawaban = ucup\n",
      "index = 76, tebakan = otong, jawaban = otong\n",
      "index = 77, tebakan = ucup, jawaban = ucup\n",
      "index = 78, tebakan = otong, jawaban = otong\n",
      "index = 79, tebakan = otong, jawaban = otong\n",
      "index = 80, tebakan = ucup, jawaban = ucup\n",
      "index = 81, tebakan = ucup, jawaban = ucup\n",
      "index = 82, tebakan = ucup, jawaban = ucup\n",
      "index = 83, tebakan = ucup, jawaban = ucup\n",
      "index = 84, tebakan = ucup, jawaban = ucup\n",
      "index = 85, tebakan = otong, jawaban = otong\n",
      "index = 86, tebakan = otong, jawaban = otong\n",
      "index = 87, tebakan = otong, jawaban = otong\n",
      "index = 88, tebakan = ucup, jawaban = ucup\n",
      "index = 89, tebakan = ucup, jawaban = ucup\n",
      "index = 90, tebakan = otong, jawaban = otong\n",
      "index = 91, tebakan = ucup, jawaban = ucup\n",
      "index = 92, tebakan = otong, jawaban = otong\n",
      "index = 93, tebakan = ucup, jawaban = ucup\n",
      "index = 94, tebakan = otong, jawaban = otong\n",
      "index = 95, tebakan = otong, jawaban = otong\n",
      "index = 96, tebakan = otong, jawaban = otong\n",
      "index = 97, tebakan = ucup, jawaban = ucup\n",
      "index = 98, tebakan = otong, jawaban = otong\n",
      "index = 99, tebakan = otong, jawaban = otong\n",
      "index = 100, tebakan = otong, jawaban = otong\n",
      "index = 101, tebakan = otong, jawaban = otong\n",
      "index = 102, tebakan = otong, jawaban = otong\n",
      "index = 103, tebakan = otong, jawaban = otong\n",
      "index = 104, tebakan = otong, jawaban = otong\n",
      "index = 105, tebakan = otong, jawaban = otong\n",
      "index = 106, tebakan = otong, jawaban = otong\n",
      "index = 107, tebakan = ucup, jawaban = ucup\n",
      "index = 108, tebakan = ucup, jawaban = ucup\n",
      "index = 109, tebakan = otong, jawaban = otong\n",
      "index = 110, tebakan = ucup, jawaban = ucup\n",
      "index = 111, tebakan = otong, jawaban = otong\n",
      "index = 112, tebakan = otong, jawaban = otong\n",
      "index = 113, tebakan = ucup, jawaban = ucup\n",
      "index = 114, tebakan = otong, jawaban = otong\n",
      "index = 115, tebakan = ucup, jawaban = ucup\n",
      "index = 116, tebakan = ucup, jawaban = ucup\n",
      "index = 117, tebakan = ucup, jawaban = ucup\n",
      "index = 118, tebakan = otong, jawaban = otong\n",
      "index = 119, tebakan = ucup, jawaban = ucup\n",
      "index = 120, tebakan = ucup, jawaban = ucup\n",
      "index = 121, tebakan = ucup, jawaban = ucup\n",
      "index = 122, tebakan = otong, jawaban = otong\n",
      "index = 123, tebakan = otong, jawaban = otong\n",
      "index = 124, tebakan = ucup, jawaban = ucup\n",
      "index = 125, tebakan = ucup, jawaban = ucup\n",
      "index = 126, tebakan = ucup, jawaban = ucup\n",
      "index = 127, tebakan = ucup, jawaban = ucup\n",
      "index = 128, tebakan = ucup, jawaban = ucup\n",
      "index = 129, tebakan = ucup, jawaban = ucup\n",
      "index = 130, tebakan = ucup, jawaban = ucup\n",
      "index = 131, tebakan = ucup, jawaban = ucup\n",
      "index = 132, tebakan = otong, jawaban = otong\n",
      "index = 133, tebakan = otong, jawaban = otong\n",
      "index = 134, tebakan = ucup, jawaban = ucup\n",
      "index = 135, tebakan = otong, jawaban = otong\n",
      "index = 136, tebakan = ucup, jawaban = ucup\n",
      "index = 137, tebakan = otong, jawaban = otong\n",
      "index = 138, tebakan = otong, jawaban = otong\n",
      "index = 139, tebakan = otong, jawaban = otong\n",
      "index = 140, tebakan = otong, jawaban = otong\n",
      "index = 141, tebakan = ucup, jawaban = ucup\n",
      "index = 142, tebakan = ucup, jawaban = ucup\n",
      "index = 143, tebakan = ucup, jawaban = ucup\n",
      "index = 144, tebakan = otong, jawaban = otong\n",
      "index = 145, tebakan = otong, jawaban = otong\n",
      "index = 146, tebakan = otong, jawaban = otong\n",
      "index = 147, tebakan = otong, jawaban = ucup\n",
      "index = 148, tebakan = otong, jawaban = otong\n",
      "index = 149, tebakan = otong, jawaban = otong\n",
      "index = 150, tebakan = otong, jawaban = otong\n",
      "index = 151, tebakan = otong, jawaban = otong\n",
      "index = 152, tebakan = otong, jawaban = otong\n",
      "index = 153, tebakan = ucup, jawaban = ucup\n",
      "index = 154, tebakan = ucup, jawaban = ucup\n",
      "index = 155, tebakan = otong, jawaban = otong\n",
      "index = 156, tebakan = ucup, jawaban = ucup\n",
      "index = 157, tebakan = ucup, jawaban = ucup\n",
      "index = 158, tebakan = otong, jawaban = otong\n",
      "index = 159, tebakan = ucup, jawaban = ucup\n",
      "index = 160, tebakan = otong, jawaban = otong\n",
      "index = 161, tebakan = otong, jawaban = otong\n",
      "index = 162, tebakan = ucup, jawaban = ucup\n",
      "index = 163, tebakan = ucup, jawaban = ucup\n",
      "index = 164, tebakan = otong, jawaban = otong\n",
      "index = 165, tebakan = otong, jawaban = otong\n",
      "index = 166, tebakan = ucup, jawaban = ucup\n",
      "index = 167, tebakan = otong, jawaban = otong\n",
      "index = 168, tebakan = ucup, jawaban = ucup\n",
      "index = 169, tebakan = ucup, jawaban = ucup\n",
      "index = 170, tebakan = ucup, jawaban = ucup\n",
      "index = 171, tebakan = ucup, jawaban = ucup\n",
      "index = 172, tebakan = otong, jawaban = otong\n",
      "index = 173, tebakan = ucup, jawaban = ucup\n",
      "index = 174, tebakan = otong, jawaban = otong\n",
      "index = 175, tebakan = ucup, jawaban = ucup\n",
      "index = 176, tebakan = otong, jawaban = otong\n",
      "index = 177, tebakan = ucup, jawaban = otong\n",
      "index = 178, tebakan = otong, jawaban = ucup\n",
      "index = 179, tebakan = otong, jawaban = otong\n",
      "index = 180, tebakan = ucup, jawaban = ucup\n",
      "index = 181, tebakan = otong, jawaban = otong\n",
      "index = 182, tebakan = ucup, jawaban = ucup\n",
      "index = 183, tebakan = ucup, jawaban = ucup\n",
      "index = 184, tebakan = ucup, jawaban = ucup\n",
      "index = 185, tebakan = ucup, jawaban = ucup\n",
      "index = 186, tebakan = ucup, jawaban = ucup\n",
      "index = 187, tebakan = ucup, jawaban = ucup\n",
      "index = 188, tebakan = ucup, jawaban = ucup\n",
      "index = 189, tebakan = ucup, jawaban = ucup\n",
      "index = 190, tebakan = otong, jawaban = otong\n",
      "index = 191, tebakan = otong, jawaban = otong\n",
      "index = 192, tebakan = ucup, jawaban = ucup\n",
      "index = 193, tebakan = otong, jawaban = otong\n",
      "index = 194, tebakan = otong, jawaban = otong\n",
      "index = 195, tebakan = otong, jawaban = otong\n",
      "index = 196, tebakan = otong, jawaban = otong\n",
      "index = 197, tebakan = otong, jawaban = otong\n"
     ]
    }
   ],
   "source": [
    "learning_rate = 0.1\n",
    "answer = []\n",
    "error_array = np.zeros((2, len(data_frame)))\n",
    "\n",
    "for index,baris in data_frame.iterrows():\n",
    "    input = np.array([\n",
    "        [baris.x1], \n",
    "        [baris.x2],\n",
    "    ])\n",
    "    output_hidden = np.dot(W, input)\n",
    "    output_learn = sigmoid(output_hidden)\n",
    "    output_actual = np.array([\n",
    "        [baris.y1],\n",
    "        [baris.y2],\n",
    "    ])\n",
    "\n",
    "    error = output_actual - output_learn\n",
    "    delta_W = np.dot(learning_rate * error * output_learn * (1 - output_learn), input.T)\n",
    "    W += delta_W\n",
    "\n",
    "    error_array[:, index] = error.T * error.T\n",
    "\n",
    "    tebakan = np.argmax(output_learn)\n",
    "    jawaban = np.argmax(output_actual)\n",
    "\n",
    "    label_tebakan = \"ucup\" if tebakan == 1 else \"otong\"\n",
    "\n",
    "    print(f'index = {index}, tebakan = {label_tebakan}, jawaban = {baris.label}')\n",
    "\n",
    "    if (tebakan == jawaban) :\n",
    "        answer.append(1)\n",
    "    else :\n",
    "        answer.append(0)\n"
   ]
  },
  {
   "cell_type": "code",
   "execution_count": 180,
   "id": "3a64d6c7",
   "metadata": {},
   "outputs": [
    {
     "data": {
      "text/plain": [
       "[<matplotlib.lines.Line2D at 0x1179334d0>,\n",
       " <matplotlib.lines.Line2D at 0x117933610>]"
      ]
     },
     "execution_count": 180,
     "metadata": {},
     "output_type": "execute_result"
    },
    {
     "data": {
      "image/png": "[encoded data removed]",
      "text/plain": [
       "<Figure size 640x480 with 1 Axes>"
      ]
     },
     "metadata": {},
     "output_type": "display_data"
    }
   ],
   "source": [
    "plt.plot(error_array.T)"
   ]
  },
  {
   "cell_type": "code",
   "execution_count": 181,
   "id": "4bbfc9d1",
   "metadata": {},
   "outputs": [
    {
     "data": {
      "text/plain": [
       "[<matplotlib.lines.Line2D at 0x117756990>]"
      ]
     },
     "execution_count": 181,
     "metadata": {},
     "output_type": "execute_result"
    },
    {
     "data": {
      "image/png": "[encoded data removed]",
      "text/plain": [
       "<Figure size 640x480 with 1 Axes>"
      ]
     },
     "metadata": {},
     "output_type": "display_data"
    }
   ],
   "source": [
    "plt.plot(answer)"
   ]
  },
  {
   "cell_type": "code",
   "execution_count": 185,
   "id": "550d706f",
   "metadata": {},
   "outputs": [
    {
     "name": "stdout",
     "output_type": "stream",
     "text": [
      "tinggi = 190, berat = 30, adalah otong\n"
     ]
    }
   ],
   "source": [
    "x1 = 19\n",
    "x2 = 3\n",
    "\n",
    "input = np.array([\n",
    "    [x1], \n",
    "    [x2],\n",
    "])\n",
    "output_hidden = np.dot(W, input)\n",
    "output_prediction = sigmoid(output_hidden)\n",
    "\n",
    "prediction = np.argmax(output_prediction)\n",
    "\n",
    "label_predicition = \"ucup\" if prediction == 1 else \"otong\"\n",
    "\n",
    "print(f'tinggi = {x1 * 10}, berat = {x2 * 10}, adalah {label_predicition}')"
   ]
  }
 ],
 "metadata": {
  "kernelspec": {
   "display_name": "Env",
   "language": "python",
   "name": "python3"
  },
  "language_info": {
   "codemirror_mode": {
    "name": "ipython",
    "version": 3
   },
   "file_extension": ".py",
   "mimetype": "text/x-python",
   "name": "python",
   "nbconvert_exporter": "python",
   "pygments_lexer": "ipython3",
   "version": "3.13.6"
  }
 },
 "nbformat": 4,
 "nbformat_minor": 5
}
