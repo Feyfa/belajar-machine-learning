{
 "cells": [
  {
   "cell_type": "markdown",
   "id": "7d33c618",
   "metadata": {},
   "source": [
    "# Machine Learning Sederhana\n"
   ]
  },
  {
   "cell_type": "markdown",
   "id": "59e6d6c7",
   "metadata": {},
   "source": [
    "### 1. import library yang di perlukan\n"
   ]
  },
  {
   "cell_type": "code",
   "execution_count": 2,
   "id": "5f93d496",
   "metadata": {},
   "outputs": [],
   "source": [
    "%matplotlib widget\n",
    "\n",
    "import json\n",
    "import numpy as np\n",
    "import matplotlib.pyplot as plt\n",
    "from matplotlib.animation import FuncAnimation"
   ]
  },
  {
   "cell_type": "markdown",
   "id": "8a1a1056",
   "metadata": {},
   "source": [
    "### 2. generate data\n"
   ]
  },
  {
   "cell_type": "code",
   "execution_count": 3,
   "id": "c5637ffe",
   "metadata": {},
   "outputs": [],
   "source": [
    "jumlah_data = 100\n",
    "rasioForTen = 10 / jumlah_data\n",
    "\n",
    "x = np.array([(i * rasioForTen) for i in range(jumlah_data)])\n",
    "y = np.array([(i * rasioForTen) + (np.random.rand()) for i in range(jumlah_data)])\n",
    "\n",
    "# development\n",
    "# print({\n",
    "#     'rasioForTen': rasioForTen,\n",
    "#     'x': x,\n",
    "#     'y': y,\n",
    "# })\n",
    "# fig, ax = plt.subplots()\n",
    "# ax.spines['bottom'].set_position(('data',0))\n",
    "# plt.scatter(x,y)\n",
    "# plt.axis([0,10,0,10])\n",
    "# plt.show()\n",
    "# development"
   ]
  },
  {
   "cell_type": "markdown",
   "id": "c4aff128",
   "metadata": {},
   "source": [
    "### 3. membuat fungsi yang dibutuhkan\n"
   ]
  },
  {
   "cell_type": "code",
   "execution_count": 4,
   "id": "660c3989",
   "metadata": {},
   "outputs": [],
   "source": [
    "def linearRegression(m,x):\n",
    "    return (m * x)\n",
    "\n",
    "# developement\n",
    "# print(linearRegression(2,2))\n",
    "# developement"
   ]
  },
  {
   "cell_type": "markdown",
   "id": "b62473c8",
   "metadata": {},
   "source": [
    "### 4. menghitung prediksi\n"
   ]
  },
  {
   "cell_type": "code",
   "execution_count": 5,
   "id": "d22487d1",
   "metadata": {},
   "outputs": [],
   "source": [
    "m_awal = 10 # m_awal disini sengaja di set salah, jadi biarkan code yang menyelesaikanya\n",
    "m_prediksi = m_awal\n",
    "x_prediksi = np.array([0,10])\n",
    "y_prediksi = linearRegression(x_prediksi,m_prediksi)\n",
    "\n",
    "# development\n",
    "# print({\n",
    "#     'm_prediksi': m_prediksi,\n",
    "#     'x_prediksi': x_prediksi,\n",
    "#     'y_prediksi': y_prediksi,\n",
    "# })\n",
    "# raise SystemExit \n",
    "# development\n",
    "\n",
    "\n",
    "result_list_prediksi = []\n",
    "m_list_prediksi = []\n",
    "x_list_prediksi = []\n",
    "y_list_prediksi = []\n",
    "learning_rate = 0.1\n",
    "\n",
    "for i in range(1, jumlah_data):\n",
    "    # dapatkan x_actual , y_actual , y_prediksi\n",
    "    x_actual = x[i]\n",
    "    y_actual = y[i]\n",
    "    y_prediksi = linearRegression(x_actual,m_prediksi)\n",
    "    step1 = {\n",
    "        'action': 'dapatkan x_actual , y_actual , y_prediksi',\n",
    "        'm_prediksi_before': m_prediksi,\n",
    "        'x_actual': x_actual,\n",
    "        'y_actual': y_actual,\n",
    "        'y_prediksi': y_prediksi,\n",
    "    }\n",
    "    # dapatkan x_actual , y_actual , y_prediksi\n",
    "\n",
    "    # hitung error dan dapatkan delta gradient nya\n",
    "    error = y_actual - y_prediksi # −9.7389\n",
    "    delta_m = error / x_actual # −97.389\n",
    "    delta_m *= learning_rate\n",
    "    step2 = {\n",
    "        'action': 'hitung error dan dapatkan delta gradient nya',\n",
    "        'error': error,\n",
    "        'delta_m_before': error / x_actual,\n",
    "        'learning_rate': learning_rate,\n",
    "        'delta_m': delta_m,\n",
    "    }\n",
    "    # hitung error dan dapatkan delta gradient nya\n",
    "    \n",
    "    # update gradient dari error yang di dapat\n",
    "    m_prediksi_before = m_prediksi\n",
    "    m_prediksi += delta_m\n",
    "    step3 = {\n",
    "        'action': 'update gradient dari error yang di dapat',\n",
    "        'm_prediksi_before': m_prediksi_before,\n",
    "        'm_prediksi': m_prediksi,\n",
    "    }\n",
    "    # update gradient dari error yang di dapat\n",
    "\n",
    "    # setelah gradient telah di perbarui dari error yang di dapat, hitung lagi fungsi linear aggression dari gradient yang terbaru\n",
    "    m_list_prediksi.append(m_prediksi)\n",
    "    x_list_prediksi.append(x_prediksi)\n",
    "    y_list_prediksi.append(linearRegression(x_prediksi,m_prediksi))\n",
    "    step4 = {\n",
    "        'action': 'setelah gradient telah di perbarui dari error yang di dapat, hitung lagi fungsi linear aggression dari gradient yang terbaru',\n",
    "        'm_prediksi': m_prediksi,\n",
    "        'x_prediksi': x_prediksi.tolist(),\n",
    "        'y_prediksi': linearRegression(x_prediksi,m_prediksi).tolist(),\n",
    "    }\n",
    "    # setelah gradient telah di perbarui dari error yang di dapat, hitung lagi fungsi linear aggression dari gradient yang terbaru\n",
    "\n",
    "    result_list_prediksi.append({\n",
    "        'step1': step1,\n",
    "        'step2': step2,\n",
    "        'step3': step3,\n",
    "        'step4': step4,\n",
    "    })\n",
    "\n",
    "# development\n",
    "with open('../Json/data.json','w') as f:\n",
    "    json.dump(result_list_prediksi,f,indent=4)\n",
    "# development\n"
   ]
  },
  {
   "cell_type": "markdown",
   "id": "cdaf8314",
   "metadata": {},
   "source": [
    "### 5. Visualisasi Prediksi"
   ]
  },
  {
   "cell_type": "code",
   "execution_count": 6,
   "id": "966a84ca",
   "metadata": {},
   "outputs": [
    {
     "data": {
      "application/vnd.jupyter.widget-view+json": {
       "model_id": "42f2f21ba6f94ed7a678816bb18cec1f",
       "version_major": 2,
       "version_minor": 0
      },
      "image/png": "[encoded data removed]",
      "text/html": [
       "\n",
       "            <div style=\"display: inline-block;\">\n",
       "                <div class=\"jupyter-widgets widget-label\" style=\"text-align: center;\">\n",
       "                    Figure\n",
       "                </div>\n",
       "                <img src='data:image/png;base64,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' width=640.0/>\n",
       "            </div>\n",
       "        "
      ],
      "text/plain": [
       "Canvas(toolbar=Toolbar(toolitems=[('Home', 'Reset original view', 'home', 'home'), ('Back', 'Back to previous …"
      ]
     },
     "metadata": {},
     "output_type": "display_data"
    }
   ],
   "source": [
    "fig, ax = plt.subplots()\n",
    "line, = plt.plot([],[],\"r\")\n",
    "\n",
    "plt.scatter(x,y)\n",
    "ax.axis([0,10,0,10])\n",
    "text = ax.text(1,10.2,\"\")\n",
    "\n",
    "def animate(frame):\n",
    "    x_pred = x_list_prediksi[frame]\n",
    "    y_pred = y_list_prediksi[frame]\n",
    "    line.set_data(x_pred, y_pred)\n",
    "    return line,\n",
    "\n",
    "anim = FuncAnimation(\n",
    "    fig=fig,\n",
    "    func=animate,\n",
    "    frames=jumlah_data,\n",
    "    interval=100,\n",
    "    repeat=False\n",
    ")\n",
    "\n",
    "plt.show()"
   ]
  }
 ],
 "metadata": {
  "kernelspec": {
   "display_name": "Env",
   "language": "python",
   "name": "python3"
  },
  "language_info": {
   "codemirror_mode": {
    "name": "ipython",
    "version": 3
   },
   "file_extension": ".py",
   "mimetype": "text/x-python",
   "name": "python",
   "nbconvert_exporter": "python",
   "pygments_lexer": "ipython3",
   "version": "3.13.6"
  }
 },
 "nbformat": 4,
 "nbformat_minor": 5
}
