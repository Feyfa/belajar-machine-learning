{
 "cells": [
  {
   "cell_type": "markdown",
   "id": "7d33c618",
   "metadata": {},
   "source": [
    "# Machine Learning Sederhana\n"
   ]
  },
  {
   "cell_type": "markdown",
   "id": "59e6d6c7",
   "metadata": {},
   "source": [
    "### 1. import library yang di perlukan\n"
   ]
  },
  {
   "cell_type": "code",
   "execution_count": 1,
   "id": "5f93d496",
   "metadata": {},
   "outputs": [],
   "source": [
    "%matplotlib widget\n",
    "\n",
    "import json\n",
    "import numpy as np\n",
    "import matplotlib.pyplot as plt\n",
    "from matplotlib.animation import FuncAnimation"
   ]
  },
  {
   "cell_type": "markdown",
   "id": "8a1a1056",
   "metadata": {},
   "source": [
    "### 2. generate data\n"
   ]
  },
  {
   "cell_type": "code",
   "execution_count": 2,
   "id": "c5637ffe",
   "metadata": {},
   "outputs": [],
   "source": [
    "jumlah_data = 100\n",
    "rasioForTen = 10 / jumlah_data\n",
    "\n",
    "x = np.array([(i * rasioForTen) for i in range(jumlah_data)])\n",
    "y = np.array([(i * rasioForTen) + (np.random.rand()) for i in range(jumlah_data)])\n",
    "\n",
    "# development\n",
    "# print({\n",
    "#     'rasioForTen': rasioForTen,\n",
    "#     'x': x,\n",
    "#     'y': y,\n",
    "# })\n",
    "# fig, ax = plt.subplots()\n",
    "# ax.spines['bottom'].set_position(('data',0))\n",
    "# plt.scatter(x,y)\n",
    "# plt.axis([0,10,0,10])\n",
    "# plt.show()\n",
    "# development"
   ]
  },
  {
   "cell_type": "markdown",
   "id": "c4aff128",
   "metadata": {},
   "source": [
    "### 3. membuat fungsi yang dibutuhkan\n"
   ]
  },
  {
   "cell_type": "code",
   "execution_count": 3,
   "id": "660c3989",
   "metadata": {},
   "outputs": [],
   "source": [
    "def linearRegression(m,x):\n",
    "    return (m * x)\n",
    "\n",
    "# developement\n",
    "# print(linearRegression(2,2))\n",
    "# developement"
   ]
  },
  {
   "cell_type": "markdown",
   "id": "b62473c8",
   "metadata": {},
   "source": [
    "### 4. menghitung prediksi\n"
   ]
  },
  {
   "cell_type": "code",
   "execution_count": 4,
   "id": "d22487d1",
   "metadata": {},
   "outputs": [],
   "source": [
    "m_awal = 10 # m_awal disini sengaja di set salah, jadi biarkan code yang menyelesaikanya\n",
    "m_prediksi = m_awal\n",
    "x_prediksi = np.array([0,10])\n",
    "y_prediksi = linearRegression(x_prediksi,m_prediksi)\n",
    "\n",
    "# development\n",
    "# print({\n",
    "#     'm_prediksi': m_prediksi,\n",
    "#     'x_prediksi': x_prediksi,\n",
    "#     'y_prediksi': y_prediksi,\n",
    "# })\n",
    "# raise SystemExit \n",
    "# development\n",
    "\n",
    "\n",
    "result_list_prediksi = []\n",
    "m_list_prediksi = []\n",
    "x_list_prediksi = []\n",
    "y_list_prediksi = []\n",
    "learning_rate = 0.1\n",
    "\n",
    "for i in range(1, jumlah_data):\n",
    "    # dapatkan x_actual , y_actual , y_prediksi\n",
    "    x_actual = x[i]\n",
    "    y_actual = y[i]\n",
    "    y_prediksi = linearRegression(x_actual,m_prediksi)\n",
    "    step1 = {\n",
    "        'action': 'dapatkan x_actual , y_actual , y_prediksi',\n",
    "        'm_prediksi_before': m_prediksi,\n",
    "        'x_actual': x_actual,\n",
    "        'y_actual': y_actual,\n",
    "        'y_prediksi': y_prediksi,\n",
    "    }\n",
    "    # dapatkan x_actual , y_actual , y_prediksi\n",
    "\n",
    "    # hitung error dan dapatkan delta gradient nya\n",
    "    error = y_actual - y_prediksi # −9.7389\n",
    "    delta_m = error / x_actual # −97.389\n",
    "    delta_m *= learning_rate\n",
    "    step2 = {\n",
    "        'action': 'hitung error dan dapatkan delta gradient nya',\n",
    "        'error': error,\n",
    "        'delta_m_before': error / x_actual,\n",
    "        'learning_rate': learning_rate,\n",
    "        'delta_m': delta_m,\n",
    "    }\n",
    "    # hitung error dan dapatkan delta gradient nya\n",
    "    \n",
    "    # update gradient dari error yang di dapat\n",
    "    m_prediksi_before = m_prediksi\n",
    "    m_prediksi += delta_m\n",
    "    step3 = {\n",
    "        'action': 'update gradient dari error yang di dapat',\n",
    "        'm_prediksi_before': m_prediksi_before,\n",
    "        'm_prediksi': m_prediksi,\n",
    "    }\n",
    "    # update gradient dari error yang di dapat\n",
    "\n",
    "    # setelah gradient telah di perbarui dari error yang di dapat, hitung lagi fungsi linear aggression dari gradient yang terbaru\n",
    "    m_list_prediksi.append(m_prediksi)\n",
    "    x_list_prediksi.append(x_prediksi)\n",
    "    y_list_prediksi.append(linearRegression(x_prediksi,m_prediksi))\n",
    "    step4 = {\n",
    "        'action': 'setelah gradient telah di perbarui dari error yang di dapat, hitung lagi fungsi linear aggression dari gradient yang terbaru',\n",
    "        'm_prediksi': m_prediksi,\n",
    "        'x_prediksi': x_prediksi.tolist(),\n",
    "        'y_prediksi': linearRegression(x_prediksi,m_prediksi).tolist(),\n",
    "    }\n",
    "    # setelah gradient telah di perbarui dari error yang di dapat, hitung lagi fungsi linear aggression dari gradient yang terbaru\n",
    "\n",
    "    result_list_prediksi.append({\n",
    "        'step1': step1,\n",
    "        'step2': step2,\n",
    "        'step3': step3,\n",
    "        'step4': step4,\n",
    "    })\n",
    "\n",
    "# development\n",
    "with open('../Json/data.json','w') as f:\n",
    "    json.dump(result_list_prediksi,f,indent=4)\n",
    "# development\n"
   ]
  },
  {
   "cell_type": "markdown",
   "id": "cdaf8314",
   "metadata": {},
   "source": [
    "### 5. Visualisasi Prediksi"
   ]
  },
  {
   "cell_type": "code",
   "execution_count": 5,
   "id": "966a84ca",
   "metadata": {},
   "outputs": [
    {
     "data": {
      "application/vnd.jupyter.widget-view+json": {
       "model_id": "4b6d01220dd54623b5fc2338c840c962",
       "version_major": 2,
       "version_minor": 0
      },
      "image/png": "[encoded data removed]",
      "text/html": [
       "\n",
       "            <div style=\"display: inline-block;\">\n",
       "                <div class=\"jupyter-widgets widget-label\" style=\"text-align: center;\">\n",
       "                    Figure\n",
       "                </div>\n",
       "                <img src='data:image/png;base64,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' width=640.0/>\n",
       "            </div>\n",
       "        "
      ],
      "text/plain": [
       "Canvas(toolbar=Toolbar(toolitems=[('Home', 'Reset original view', 'home', 'home'), ('Back', 'Back to previous …"
      ]
     },
     "metadata": {},
     "output_type": "display_data"
    }
   ],
   "source": [
    "fig, ax = plt.subplots()\n",
    "line, = plt.plot([],[],\"r\")\n",
    "\n",
    "plt.scatter(x,y)\n",
    "ax.axis([0,10,0,10])\n",
    "text = ax.text(1,10.2,\"\")\n",
    "\n",
    "def animate(frame):\n",
    "    x_pred = x_list_prediksi[frame]\n",
    "    y_pred = y_list_prediksi[frame]\n",
    "    line.set_data(x_pred, y_pred)\n",
    "    return line,\n",
    "\n",
    "anim = FuncAnimation(\n",
    "    fig=fig,\n",
    "    func=animate,\n",
    "    frames=jumlah_data,\n",
    "    interval=100,\n",
    "    repeat=False\n",
    ")\n",
    "\n",
    "plt.show()"
   ]
  }
 ],
 "metadata": {
  "kernelspec": {
   "display_name": "Env",
   "language": "python",
   "name": "python3"
  },
  "language_info": {
   "codemirror_mode": {
    "name": "ipython",
    "version": 3
   },
   "file_extension": ".py",
   "mimetype": "text/x-python",
   "name": "python",
   "nbconvert_exporter": "python",
   "pygments_lexer": "ipython3",
   "version": "3.13.6"
  }
 },
 "nbformat": 4,
 "nbformat_minor": 5
}
